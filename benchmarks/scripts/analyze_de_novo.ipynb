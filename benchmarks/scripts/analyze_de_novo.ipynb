{
 "cells": [
  {
   "cell_type": "code",
   "execution_count": 1,
   "metadata": {},
   "outputs": [],
   "source": [
    "import os\n",
    "import pandas as pd\n",
    "import seaborn as sns\n",
    "\n",
    "import matplotlib.font_manager as fm\n",
    "import matplotlib.pyplot as plt\n",
    "\n",
    "from matplotlib.font_manager import FontProperties"
   ]
  },
  {
   "cell_type": "code",
   "execution_count": 2,
   "metadata": {},
   "outputs": [],
   "source": [
    "path = \"/home/sg666/MeMDLM/MeMDLM/benchmarks/results\""
   ]
  },
  {
   "cell_type": "code",
   "execution_count": 3,
   "metadata": {},
   "outputs": [],
   "source": [
    "def make_fasta(sequences: list, label: str, filename):\n",
    "    with open(filename, \"w\") as fasta_file:\n",
    "        for i, seq in enumerate(sequences):\n",
    "            fasta_file.write(f\">{label}{i+1}\\n{seq}\\n\")"
   ]
  },
  {
   "cell_type": "code",
   "execution_count": 4,
   "metadata": {},
   "outputs": [],
   "source": [
    "def analyze_results(txt_file, label, df):\n",
    "    with open(txt_file, \"r\") as file:\n",
    "        lines = file.readlines()\n",
    "\n",
    "    insides = [0] * len(df)  # List to store inside residues for each sequence\n",
    "\n",
    "    for line in lines:\n",
    "        line = line.strip()  # Remove leading/trailing whitespace\n",
    "\n",
    "        # Check if the line contains the correct label and 'inside' keyword\n",
    "        if line.startswith(f\"{label}\") and \"inside\" in line:\n",
    "            # Extract the sequence index from the label\n",
    "            seq_index = int(line.split()[0][len(label):]) - 1  # Extract sequence index, adjust for label length\n",
    "            \n",
    "            # Calculate the number of inside residues\n",
    "            parts = line.split()\n",
    "            start, end = int(parts[-2]), int(parts[-1])\n",
    "            insides[seq_index] += (end - start + 1)\n",
    "\n",
    "    # Add the results as a new column in the dataframe\n",
    "    df[f'{label} DeepTMHMM Predictions'] = insides\n",
    "\n",
    "    return df"
   ]
  },
  {
   "cell_type": "markdown",
   "metadata": {},
   "source": [
    "### MeMDLM"
   ]
  },
  {
   "cell_type": "code",
   "execution_count": 5,
   "metadata": {},
   "outputs": [],
   "source": [
    "memdlm = pd.read_csv(path + \"/de_novo/mdlm/de_novo_mdlm.csv\").dropna(inplace=False)"
   ]
  },
  {
   "cell_type": "code",
   "execution_count": 6,
   "metadata": {},
   "outputs": [],
   "source": [
    "memdlm.insert(0, 'Source', 'MeMDLM')\n",
    "memdlm['Sequence Length'] = memdlm[f'OG Sequence'].apply(len)\n",
    "memdlm['OG DeepTMHMM Predictions'] = None\n",
    "memdlm['Optimized DeepTMHMM Predictions'] = None"
   ]
  },
  {
   "cell_type": "code",
   "execution_count": 7,
   "metadata": {},
   "outputs": [],
   "source": [
    "og_seqs = memdlm['OG Sequence'].tolist()\n",
    "optim_seqs = memdlm['Optimized Sequence'].tolist()"
   ]
  },
  {
   "cell_type": "code",
   "execution_count": 8,
   "metadata": {},
   "outputs": [],
   "source": [
    "make_fasta(og_seqs, \"OG\", path + \"/de_novo/mdlm/og_seqs.fasta\")\n",
    "make_fasta(optim_seqs, \"Optimized\", path + \"/de_novo/mdlm/optim_seqs.fasta\")"
   ]
  },
  {
   "cell_type": "code",
   "execution_count": 9,
   "metadata": {},
   "outputs": [],
   "source": [
    "df = analyze_results(path + \"/de_novo/mdlm/optim_res.txt\", \"Optimized\", memdlm)\n",
    "df = analyze_results(path + \"/de_novo/mdlm/og_res.txt\", \"OG\", memdlm)"
   ]
  },
  {
   "cell_type": "code",
   "execution_count": 10,
   "metadata": {},
   "outputs": [
    {
     "data": {
      "text/html": [
       "<div>\n",
       "<style scoped>\n",
       "    .dataframe tbody tr th:only-of-type {\n",
       "        vertical-align: middle;\n",
       "    }\n",
       "\n",
       "    .dataframe tbody tr th {\n",
       "        vertical-align: top;\n",
       "    }\n",
       "\n",
       "    .dataframe thead th {\n",
       "        text-align: right;\n",
       "    }\n",
       "</style>\n",
       "<table border=\"1\" class=\"dataframe\">\n",
       "  <thead>\n",
       "    <tr style=\"text-align: right;\">\n",
       "      <th></th>\n",
       "      <th>Source</th>\n",
       "      <th>Sequence</th>\n",
       "      <th>DeepTMHMM Predictions</th>\n",
       "    </tr>\n",
       "  </thead>\n",
       "  <tbody>\n",
       "    <tr>\n",
       "      <th>0</th>\n",
       "      <td>MeMDLM (Unconditional)</td>\n",
       "      <td>EDVLFPTLNGSLGERSAMLAQATYIQSRTFRWQLEARAAQFKGVVL...</td>\n",
       "      <td>100.000000</td>\n",
       "    </tr>\n",
       "    <tr>\n",
       "      <th>1</th>\n",
       "      <td>MeMDLM (Unconditional)</td>\n",
       "      <td>PQLIRHDGWIAELLPFLSIIVAILYSLGHVVEYGHGTQVTLYSGKE...</td>\n",
       "      <td>61.007958</td>\n",
       "    </tr>\n",
       "    <tr>\n",
       "      <th>2</th>\n",
       "      <td>MeMDLM (Unconditional)</td>\n",
       "      <td>GSRCKLYLLFCFGAFCTITGVPNIYCGSKNGWVVTTCWGYQGDYYF...</td>\n",
       "      <td>23.936170</td>\n",
       "    </tr>\n",
       "    <tr>\n",
       "      <th>3</th>\n",
       "      <td>MeMDLM (Unconditional)</td>\n",
       "      <td>ETVYEFADNNVILPPEELAATVQWRGAGALVQASFVGGLWRATGDV...</td>\n",
       "      <td>58.372093</td>\n",
       "    </tr>\n",
       "    <tr>\n",
       "      <th>4</th>\n",
       "      <td>MeMDLM (Unconditional)</td>\n",
       "      <td>LGMLKLEKGQPARIGYKVMLRAIGAKDYRNPEYSHVYHRLQGIIAQ...</td>\n",
       "      <td>13.450292</td>\n",
       "    </tr>\n",
       "    <tr>\n",
       "      <th>...</th>\n",
       "      <td>...</td>\n",
       "      <td>...</td>\n",
       "      <td>...</td>\n",
       "    </tr>\n",
       "    <tr>\n",
       "      <th>73</th>\n",
       "      <td>MeMDLM (Unconditional)</td>\n",
       "      <td>PAEYKFRKRFLIRTAVETFVLFLAALVVLSAANYDIFALKYRQSAE...</td>\n",
       "      <td>52.027027</td>\n",
       "    </tr>\n",
       "    <tr>\n",
       "      <th>74</th>\n",
       "      <td>MeMDLM (Unconditional)</td>\n",
       "      <td>FFSLPQANFEPGKNLYISSKPSQNWVLRVGDFTLEYCKTAYAAALI...</td>\n",
       "      <td>100.000000</td>\n",
       "    </tr>\n",
       "    <tr>\n",
       "      <th>75</th>\n",
       "      <td>MeMDLM (Unconditional)</td>\n",
       "      <td>SGLSVIVAFVGGTTFPIENHVNASAVNGVNGRISGIGAYVTSKPRY...</td>\n",
       "      <td>100.000000</td>\n",
       "    </tr>\n",
       "    <tr>\n",
       "      <th>76</th>\n",
       "      <td>MeMDLM (Unconditional)</td>\n",
       "      <td>VKEIEKQSTERIASLFIIINISSVFFGHFVYQVLSKIFDDIFAFLT...</td>\n",
       "      <td>70.362473</td>\n",
       "    </tr>\n",
       "    <tr>\n",
       "      <th>77</th>\n",
       "      <td>MeMDLM (Unconditional)</td>\n",
       "      <td>YTSVLQTACPIFSIFKVSQMVVSSSEEFKLAENVGLLLASAIVLVL...</td>\n",
       "      <td>32.173913</td>\n",
       "    </tr>\n",
       "  </tbody>\n",
       "</table>\n",
       "<p>78 rows × 3 columns</p>\n",
       "</div>"
      ],
      "text/plain": [
       "                    Source                                           Sequence  \\\n",
       "0   MeMDLM (Unconditional)  EDVLFPTLNGSLGERSAMLAQATYIQSRTFRWQLEARAAQFKGVVL...   \n",
       "1   MeMDLM (Unconditional)  PQLIRHDGWIAELLPFLSIIVAILYSLGHVVEYGHGTQVTLYSGKE...   \n",
       "2   MeMDLM (Unconditional)  GSRCKLYLLFCFGAFCTITGVPNIYCGSKNGWVVTTCWGYQGDYYF...   \n",
       "3   MeMDLM (Unconditional)  ETVYEFADNNVILPPEELAATVQWRGAGALVQASFVGGLWRATGDV...   \n",
       "4   MeMDLM (Unconditional)  LGMLKLEKGQPARIGYKVMLRAIGAKDYRNPEYSHVYHRLQGIIAQ...   \n",
       "..                     ...                                                ...   \n",
       "73  MeMDLM (Unconditional)  PAEYKFRKRFLIRTAVETFVLFLAALVVLSAANYDIFALKYRQSAE...   \n",
       "74  MeMDLM (Unconditional)  FFSLPQANFEPGKNLYISSKPSQNWVLRVGDFTLEYCKTAYAAALI...   \n",
       "75  MeMDLM (Unconditional)  SGLSVIVAFVGGTTFPIENHVNASAVNGVNGRISGIGAYVTSKPRY...   \n",
       "76  MeMDLM (Unconditional)  VKEIEKQSTERIASLFIIINISSVFFGHFVYQVLSKIFDDIFAFLT...   \n",
       "77  MeMDLM (Unconditional)  YTSVLQTACPIFSIFKVSQMVVSSSEEFKLAENVGLLLASAIVLVL...   \n",
       "\n",
       "    DeepTMHMM Predictions  \n",
       "0              100.000000  \n",
       "1               61.007958  \n",
       "2               23.936170  \n",
       "3               58.372093  \n",
       "4               13.450292  \n",
       "..                    ...  \n",
       "73              52.027027  \n",
       "74             100.000000  \n",
       "75             100.000000  \n",
       "76              70.362473  \n",
       "77              32.173913  \n",
       "\n",
       "[78 rows x 3 columns]"
      ]
     },
     "execution_count": 10,
     "metadata": {},
     "output_type": "execute_result"
    }
   ],
   "source": [
    "unconditional = memdlm.loc[:, memdlm.columns.str.contains('OG')]\n",
    "unconditional = unconditional.dropna()\n",
    "unconditional = unconditional.reset_index(drop=True)\n",
    "\n",
    "unconditional.insert(0, 'Source', 'MeMDLM (Unconditional)')\n",
    "\n",
    "unconditional.rename(columns={'OG Sequence': 'Sequence', \"OG DeepTMHMM Predictions\": \"counts\"}, inplace=True)\n",
    "\n",
    "unconditional.drop(columns=['OG PPL', 'OG Solubility'], inplace=True)\n",
    "\n",
    "\n",
    "unconditional['DeepTMHMM Predictions'] = 0.0\n",
    "unconditional['Sequence Length'] = unconditional[f'Sequence'].apply(len)\n",
    "\n",
    "for idx, row in unconditional.iterrows():\n",
    "    unconditional.at[idx, 'DeepTMHMM Predictions'] = (row['counts'] / row['Sequence Length']) * 100\n",
    "unconditional.drop(columns=['Sequence Length', 'counts'], inplace=True)\n",
    "\n",
    "unconditional = unconditional.reset_index(drop=True)\n",
    "\n",
    "unconditional"
   ]
  },
  {
   "cell_type": "code",
   "execution_count": 11,
   "metadata": {},
   "outputs": [
    {
     "data": {
      "text/html": [
       "<div>\n",
       "<style scoped>\n",
       "    .dataframe tbody tr th:only-of-type {\n",
       "        vertical-align: middle;\n",
       "    }\n",
       "\n",
       "    .dataframe tbody tr th {\n",
       "        vertical-align: top;\n",
       "    }\n",
       "\n",
       "    .dataframe thead th {\n",
       "        text-align: right;\n",
       "    }\n",
       "</style>\n",
       "<table border=\"1\" class=\"dataframe\">\n",
       "  <thead>\n",
       "    <tr style=\"text-align: right;\">\n",
       "      <th></th>\n",
       "      <th>Source</th>\n",
       "      <th>Sequence</th>\n",
       "      <th>DeepTMHMM Predictions</th>\n",
       "    </tr>\n",
       "  </thead>\n",
       "  <tbody>\n",
       "    <tr>\n",
       "      <th>0</th>\n",
       "      <td>MeMDLM (Guided)</td>\n",
       "      <td>EACLYISGLGVNCARALRLGHVLCVLGTNERXDFILAPLYLEIHYV...</td>\n",
       "      <td>100.000000</td>\n",
       "    </tr>\n",
       "    <tr>\n",
       "      <th>1</th>\n",
       "      <td>MeMDLM (Guided)</td>\n",
       "      <td>PQSTSLKYASVGDRPNHYKVSLIPRKLIQIESGLDDISDHHNMVLD...</td>\n",
       "      <td>100.000000</td>\n",
       "    </tr>\n",
       "    <tr>\n",
       "      <th>2</th>\n",
       "      <td>MeMDLM (Guided)</td>\n",
       "      <td>KLLYLGLMEGIIAPCVPPHDGLALYGAVVEFIARLQSNFVIIAEWW...</td>\n",
       "      <td>100.000000</td>\n",
       "    </tr>\n",
       "    <tr>\n",
       "      <th>3</th>\n",
       "      <td>MeMDLM (Guided)</td>\n",
       "      <td>FSAGKTENQYQYAIREWDIVTRFLDKIVLVLLAESDTINVGEYACR...</td>\n",
       "      <td>100.000000</td>\n",
       "    </tr>\n",
       "    <tr>\n",
       "      <th>4</th>\n",
       "      <td>MeMDLM (Guided)</td>\n",
       "      <td>SRLSFVCLALGFGMLGKIIWGAAVVVLKMGSZLTVILATRKYCNQN...</td>\n",
       "      <td>74.269006</td>\n",
       "    </tr>\n",
       "    <tr>\n",
       "      <th>...</th>\n",
       "      <td>...</td>\n",
       "      <td>...</td>\n",
       "      <td>...</td>\n",
       "    </tr>\n",
       "    <tr>\n",
       "      <th>73</th>\n",
       "      <td>MeMDLM (Guided)</td>\n",
       "      <td>DVENWTQISPCGGGTPFTLKTWEDYYENNVAZQMLKRNAFVGMWHH...</td>\n",
       "      <td>100.000000</td>\n",
       "    </tr>\n",
       "    <tr>\n",
       "      <th>74</th>\n",
       "      <td>MeMDLM (Guided)</td>\n",
       "      <td>TLKLFMTKNITGVRFNQVRYLGQKKYIYDTQLSPIFYPSVFPIRQW...</td>\n",
       "      <td>100.000000</td>\n",
       "    </tr>\n",
       "    <tr>\n",
       "      <th>75</th>\n",
       "      <td>MeMDLM (Guided)</td>\n",
       "      <td>LQASDWPINPFEIAGALSMADELQFICRRSQDILVDLFAIPTCIHS...</td>\n",
       "      <td>100.000000</td>\n",
       "    </tr>\n",
       "    <tr>\n",
       "      <th>76</th>\n",
       "      <td>MeMDLM (Guided)</td>\n",
       "      <td>NGGIIQVTGQYLRNRFTENAVADVYLTERGLWQKYCGLLITPIYQL...</td>\n",
       "      <td>100.000000</td>\n",
       "    </tr>\n",
       "    <tr>\n",
       "      <th>77</th>\n",
       "      <td>MeMDLM (Guided)</td>\n",
       "      <td>LCNMVYYSKNVNPMVFLHLCGENMATEYPMTTVVKREMNLFVVYED...</td>\n",
       "      <td>0.000000</td>\n",
       "    </tr>\n",
       "  </tbody>\n",
       "</table>\n",
       "<p>78 rows × 3 columns</p>\n",
       "</div>"
      ],
      "text/plain": [
       "             Source                                           Sequence  \\\n",
       "0   MeMDLM (Guided)  EACLYISGLGVNCARALRLGHVLCVLGTNERXDFILAPLYLEIHYV...   \n",
       "1   MeMDLM (Guided)  PQSTSLKYASVGDRPNHYKVSLIPRKLIQIESGLDDISDHHNMVLD...   \n",
       "2   MeMDLM (Guided)  KLLYLGLMEGIIAPCVPPHDGLALYGAVVEFIARLQSNFVIIAEWW...   \n",
       "3   MeMDLM (Guided)  FSAGKTENQYQYAIREWDIVTRFLDKIVLVLLAESDTINVGEYACR...   \n",
       "4   MeMDLM (Guided)  SRLSFVCLALGFGMLGKIIWGAAVVVLKMGSZLTVILATRKYCNQN...   \n",
       "..              ...                                                ...   \n",
       "73  MeMDLM (Guided)  DVENWTQISPCGGGTPFTLKTWEDYYENNVAZQMLKRNAFVGMWHH...   \n",
       "74  MeMDLM (Guided)  TLKLFMTKNITGVRFNQVRYLGQKKYIYDTQLSPIFYPSVFPIRQW...   \n",
       "75  MeMDLM (Guided)  LQASDWPINPFEIAGALSMADELQFICRRSQDILVDLFAIPTCIHS...   \n",
       "76  MeMDLM (Guided)  NGGIIQVTGQYLRNRFTENAVADVYLTERGLWQKYCGLLITPIYQL...   \n",
       "77  MeMDLM (Guided)  LCNMVYYSKNVNPMVFLHLCGENMATEYPMTTVVKREMNLFVVYED...   \n",
       "\n",
       "    DeepTMHMM Predictions  \n",
       "0              100.000000  \n",
       "1              100.000000  \n",
       "2              100.000000  \n",
       "3              100.000000  \n",
       "4               74.269006  \n",
       "..                    ...  \n",
       "73             100.000000  \n",
       "74             100.000000  \n",
       "75             100.000000  \n",
       "76             100.000000  \n",
       "77               0.000000  \n",
       "\n",
       "[78 rows x 3 columns]"
      ]
     },
     "execution_count": 11,
     "metadata": {},
     "output_type": "execute_result"
    }
   ],
   "source": [
    "conditional = memdlm.loc[:, memdlm.columns.str.contains('Optimized')]\n",
    "conditional = conditional.dropna()\n",
    "conditional = conditional.reset_index(drop=True)\n",
    "\n",
    "conditional.insert(0, 'Source', 'MeMDLM (Guided)')\n",
    "\n",
    "conditional.rename(columns={'Optimized Sequence': 'Sequence', \"Optimized DeepTMHMM Predictions\": \"counts\"}, inplace=True)\n",
    "\n",
    "conditional.drop(columns=['Optimized PPL', 'Optimized Solubility'], inplace=True)\n",
    "\n",
    "conditional['DeepTMHMM Predictions'] = 0.0\n",
    "conditional['Sequence Length'] = conditional[f'Sequence'].apply(len)\n",
    "\n",
    "for idx, row in conditional.iterrows():\n",
    "    conditional.at[idx, 'DeepTMHMM Predictions'] = (row['counts'] / row['Sequence Length']) * 100\n",
    "conditional.drop(columns=['Sequence Length', 'counts'], inplace=True)\n",
    "\n",
    "conditional = conditional.reset_index(drop=True)\n",
    "\n",
    "conditional\n",
    "\n",
    "conditional"
   ]
  },
  {
   "cell_type": "code",
   "execution_count": 12,
   "metadata": {},
   "outputs": [
    {
     "name": "stdout",
     "output_type": "stream",
     "text": [
      "43.16203182959124\n",
      "35.86328118505767\n"
     ]
    }
   ],
   "source": [
    "# Fix last row, didn't update in the analysis loop for some reason\n",
    "print(unconditional['DeepTMHMM Predictions'].mean())\n",
    "print(unconditional['DeepTMHMM Predictions'].std())"
   ]
  },
  {
   "cell_type": "code",
   "execution_count": 13,
   "metadata": {},
   "outputs": [
    {
     "name": "stdout",
     "output_type": "stream",
     "text": [
      "86.42377993370229\n",
      "29.01302852728537\n"
     ]
    }
   ],
   "source": [
    "print(conditional['DeepTMHMM Predictions'].mean())\n",
    "print(conditional['DeepTMHMM Predictions'].std())"
   ]
  },
  {
   "cell_type": "code",
   "execution_count": 14,
   "metadata": {},
   "outputs": [],
   "source": [
    "unconditional.to_csv(path + '/de_novo/mdlm/og_res.csv', index=False)\n",
    "conditional.to_csv(path + '/de_novo/mdlm/optim_res.csv', index=False)"
   ]
  },
  {
   "cell_type": "markdown",
   "metadata": {},
   "source": [
    "### Test Set"
   ]
  },
  {
   "cell_type": "code",
   "execution_count": 15,
   "metadata": {},
   "outputs": [],
   "source": [
    "test = pd.read_csv(\"/home/sg666/MeMDLM/MeMDLM/data/membrane/test.csv\").dropna(inplace=False)"
   ]
  },
  {
   "cell_type": "code",
   "execution_count": 16,
   "metadata": {},
   "outputs": [],
   "source": [
    "test.insert(0, 'Source', 'Test Set (Annotated)')\n",
    "test['Sequence Length'] = test[f'Sequence'].apply(len)"
   ]
  },
  {
   "cell_type": "code",
   "execution_count": 17,
   "metadata": {},
   "outputs": [],
   "source": [
    "lowercase_seqs = test['Sequence'].tolist()\n",
    "counts = []\n",
    "\n",
    "for idx, seq in enumerate(lowercase_seqs):\n",
    "    count = sum(1 for char in seq if char.islower())\n",
    "    counts.append(count)"
   ]
  },
  {
   "cell_type": "code",
   "execution_count": 18,
   "metadata": {},
   "outputs": [],
   "source": [
    "test['counts'] = counts\n",
    "test['DeepTMHMM Predictions'] = 0"
   ]
  },
  {
   "cell_type": "code",
   "execution_count": 19,
   "metadata": {},
   "outputs": [
    {
     "name": "stderr",
     "output_type": "stream",
     "text": [
      "/tmp/ipykernel_421282/2878986481.py:2: FutureWarning: Setting an item of incompatible dtype is deprecated and will raise an error in a future version of pandas. Value '67.5' has dtype incompatible with int64, please explicitly cast to a compatible dtype first.\n",
      "  test.at[idx, 'DeepTMHMM Predictions'] = (row['counts'] / row['Sequence Length']) * 100\n"
     ]
    }
   ],
   "source": [
    "for idx, row in test.iterrows():\n",
    "    test.at[idx, 'DeepTMHMM Predictions'] = (row['counts'] / row['Sequence Length']) * 100\n",
    "\n",
    "test.drop(columns=['Sequence Length', 'counts'], inplace=True)\n"
   ]
  },
  {
   "cell_type": "code",
   "execution_count": 20,
   "metadata": {},
   "outputs": [
    {
     "data": {
      "text/html": [
       "<div>\n",
       "<style scoped>\n",
       "    .dataframe tbody tr th:only-of-type {\n",
       "        vertical-align: middle;\n",
       "    }\n",
       "\n",
       "    .dataframe tbody tr th {\n",
       "        vertical-align: top;\n",
       "    }\n",
       "\n",
       "    .dataframe thead th {\n",
       "        text-align: right;\n",
       "    }\n",
       "</style>\n",
       "<table border=\"1\" class=\"dataframe\">\n",
       "  <thead>\n",
       "    <tr style=\"text-align: right;\">\n",
       "      <th></th>\n",
       "      <th>Source</th>\n",
       "      <th>Sequence</th>\n",
       "      <th>DeepTMHMM Predictions</th>\n",
       "    </tr>\n",
       "  </thead>\n",
       "  <tbody>\n",
       "    <tr>\n",
       "      <th>0</th>\n",
       "      <td>Test Set (Annotated)</td>\n",
       "      <td>LSRLMIAGLMVFLVLSLVVLLAGRLpFtpqpapvtgntyrtyvnda...</td>\n",
       "      <td>67.500000</td>\n",
       "    </tr>\n",
       "    <tr>\n",
       "      <th>1</th>\n",
       "      <td>Test Set (Annotated)</td>\n",
       "      <td>ssriagdttgkytpnifspetpmdrsfshvpknpfweawvfrrdni...</td>\n",
       "      <td>76.576577</td>\n",
       "    </tr>\n",
       "    <tr>\n",
       "      <th>2</th>\n",
       "      <td>Test Set (Annotated)</td>\n",
       "      <td>sllknyppsylypfrhpkPEGVIEKVLFNLGSLFRSAGQGMDELGs...</td>\n",
       "      <td>90.584416</td>\n",
       "    </tr>\n",
       "    <tr>\n",
       "      <th>3</th>\n",
       "      <td>Test Set (Annotated)</td>\n",
       "      <td>amktlekVNYKGFIWPLAVGIVLWLITPWrpgglsvqAWEMFAIFV...</td>\n",
       "      <td>31.288344</td>\n",
       "    </tr>\n",
       "    <tr>\n",
       "      <th>4</th>\n",
       "      <td>Test Set (Annotated)</td>\n",
       "      <td>amktlekVNYKGFIWPLAVGIVLWLITPWrpgglsvqAWEMFAIFV...</td>\n",
       "      <td>31.083845</td>\n",
       "    </tr>\n",
       "    <tr>\n",
       "      <th>...</th>\n",
       "      <td>...</td>\n",
       "      <td>...</td>\n",
       "      <td>...</td>\n",
       "    </tr>\n",
       "    <tr>\n",
       "      <th>765</th>\n",
       "      <td>Test Set (Annotated)</td>\n",
       "      <td>raavniefrdlsysvpgyktllkgisgkfnsgelvaimgpsgagks...</td>\n",
       "      <td>68.620038</td>\n",
       "    </tr>\n",
       "    <tr>\n",
       "      <th>766</th>\n",
       "      <td>Test Set (Annotated)</td>\n",
       "      <td>raavniefrdlsysvllkgisgkfnsgelvaimgpsgagkstlmni...</td>\n",
       "      <td>69.174312</td>\n",
       "    </tr>\n",
       "    <tr>\n",
       "      <th>767</th>\n",
       "      <td>Test Set (Annotated)</td>\n",
       "      <td>rcHRWc</td>\n",
       "      <td>50.000000</td>\n",
       "    </tr>\n",
       "    <tr>\n",
       "      <th>768</th>\n",
       "      <td>Test Set (Annotated)</td>\n",
       "      <td>plKTLVLASVVLTYVLMVFGGIVTstgsglgcpdwplchgqllpfq...</td>\n",
       "      <td>31.954887</td>\n",
       "    </tr>\n",
       "    <tr>\n",
       "      <th>769</th>\n",
       "      <td>Test Set (Annotated)</td>\n",
       "      <td>ekntcqlyiqtdhlffkyygtreaviaqisshvkaidtiyqttdfs...</td>\n",
       "      <td>98.878924</td>\n",
       "    </tr>\n",
       "  </tbody>\n",
       "</table>\n",
       "<p>770 rows × 3 columns</p>\n",
       "</div>"
      ],
      "text/plain": [
       "                   Source                                           Sequence  \\\n",
       "0    Test Set (Annotated)  LSRLMIAGLMVFLVLSLVVLLAGRLpFtpqpapvtgntyrtyvnda...   \n",
       "1    Test Set (Annotated)  ssriagdttgkytpnifspetpmdrsfshvpknpfweawvfrrdni...   \n",
       "2    Test Set (Annotated)  sllknyppsylypfrhpkPEGVIEKVLFNLGSLFRSAGQGMDELGs...   \n",
       "3    Test Set (Annotated)  amktlekVNYKGFIWPLAVGIVLWLITPWrpgglsvqAWEMFAIFV...   \n",
       "4    Test Set (Annotated)  amktlekVNYKGFIWPLAVGIVLWLITPWrpgglsvqAWEMFAIFV...   \n",
       "..                    ...                                                ...   \n",
       "765  Test Set (Annotated)  raavniefrdlsysvpgyktllkgisgkfnsgelvaimgpsgagks...   \n",
       "766  Test Set (Annotated)  raavniefrdlsysvllkgisgkfnsgelvaimgpsgagkstlmni...   \n",
       "767  Test Set (Annotated)                                             rcHRWc   \n",
       "768  Test Set (Annotated)  plKTLVLASVVLTYVLMVFGGIVTstgsglgcpdwplchgqllpfq...   \n",
       "769  Test Set (Annotated)  ekntcqlyiqtdhlffkyygtreaviaqisshvkaidtiyqttdfs...   \n",
       "\n",
       "     DeepTMHMM Predictions  \n",
       "0                67.500000  \n",
       "1                76.576577  \n",
       "2                90.584416  \n",
       "3                31.288344  \n",
       "4                31.083845  \n",
       "..                     ...  \n",
       "765              68.620038  \n",
       "766              69.174312  \n",
       "767              50.000000  \n",
       "768              31.954887  \n",
       "769              98.878924  \n",
       "\n",
       "[770 rows x 3 columns]"
      ]
     },
     "execution_count": 20,
     "metadata": {},
     "output_type": "execute_result"
    }
   ],
   "source": [
    "test"
   ]
  },
  {
   "cell_type": "code",
   "execution_count": 21,
   "metadata": {},
   "outputs": [],
   "source": [
    "test.to_csv(path + '/de_novo/test/test_res.csv', index=False)"
   ]
  },
  {
   "cell_type": "code",
   "execution_count": 22,
   "metadata": {},
   "outputs": [
    {
     "name": "stdout",
     "output_type": "stream",
     "text": [
      "53.17711440786701\n",
      "24.07000912183362\n"
     ]
    }
   ],
   "source": [
    "print(test['DeepTMHMM Predictions'].mean())\n",
    "print(test['DeepTMHMM Predictions'].std())"
   ]
  },
  {
   "cell_type": "markdown",
   "metadata": {},
   "source": []
  },
  {
   "cell_type": "markdown",
   "metadata": {},
   "source": [
    "### ProtGPT-2"
   ]
  },
  {
   "cell_type": "code",
   "execution_count": 23,
   "metadata": {},
   "outputs": [],
   "source": [
    "path = \"/home/sg666/MeMDLM/MeMDLM/benchmarks/results/de_novo/protgpt\"\n",
    "\n",
    "protgpt = pd.read_csv(path + \"/de_novo_protgpt.csv\")"
   ]
  },
  {
   "cell_type": "code",
   "execution_count": 24,
   "metadata": {},
   "outputs": [],
   "source": [
    "protgpt.insert(0, 'Source', 'ProtGPT2 (Unconditional)')"
   ]
  },
  {
   "cell_type": "code",
   "execution_count": 25,
   "metadata": {},
   "outputs": [],
   "source": [
    "make_fasta(protgpt['Sequence'].tolist(), \"ProtGPT\", path + \"/protgpt_seqs.fasta\")"
   ]
  },
  {
   "cell_type": "code",
   "execution_count": 26,
   "metadata": {},
   "outputs": [],
   "source": [
    "protgpt['Sequence Length'] = protgpt[f'Sequence'].apply(len)\n",
    "protgpt.drop(columns=['Perplexity'], inplace=True)"
   ]
  },
  {
   "cell_type": "code",
   "execution_count": 27,
   "metadata": {},
   "outputs": [],
   "source": [
    "protgpt = analyze_results(path + \"/protgpt_res.txt\", \"ProtGPT\", protgpt)"
   ]
  },
  {
   "cell_type": "code",
   "execution_count": 28,
   "metadata": {},
   "outputs": [],
   "source": [
    "protgpt['counts'] = protgpt['ProtGPT DeepTMHMM Predictions']"
   ]
  },
  {
   "cell_type": "code",
   "execution_count": 29,
   "metadata": {},
   "outputs": [
    {
     "data": {
      "text/html": [
       "<div>\n",
       "<style scoped>\n",
       "    .dataframe tbody tr th:only-of-type {\n",
       "        vertical-align: middle;\n",
       "    }\n",
       "\n",
       "    .dataframe tbody tr th {\n",
       "        vertical-align: top;\n",
       "    }\n",
       "\n",
       "    .dataframe thead th {\n",
       "        text-align: right;\n",
       "    }\n",
       "</style>\n",
       "<table border=\"1\" class=\"dataframe\">\n",
       "  <thead>\n",
       "    <tr style=\"text-align: right;\">\n",
       "      <th></th>\n",
       "      <th>Source</th>\n",
       "      <th>Sequence</th>\n",
       "      <th>DeepTMHMM Predictions</th>\n",
       "    </tr>\n",
       "  </thead>\n",
       "  <tbody>\n",
       "    <tr>\n",
       "      <th>0</th>\n",
       "      <td>ProtGPT2 (Unconditional)</td>\n",
       "      <td>GRIPLRIVRAETELSAEEKAFLNAVEKGDYATVKQALQEAEIYYNV...</td>\n",
       "      <td>67.704918</td>\n",
       "    </tr>\n",
       "    <tr>\n",
       "      <th>1</th>\n",
       "      <td>ProtGPT2 (Unconditional)</td>\n",
       "      <td>SERRAVYIGALFPMSGGWPGGQACQPAVEMALEDVNSRRDILPDYE...</td>\n",
       "      <td>30.213904</td>\n",
       "    </tr>\n",
       "    <tr>\n",
       "      <th>2</th>\n",
       "      <td>ProtGPT2 (Unconditional)</td>\n",
       "      <td>LWRYRYRYFIYAAVSVLLALALGGGVYGFTHTAFYDDAASQDSQAA...</td>\n",
       "      <td>25.757576</td>\n",
       "    </tr>\n",
       "    <tr>\n",
       "      <th>3</th>\n",
       "      <td>ProtGPT2 (Unconditional)</td>\n",
       "      <td>MPNFFIDRPIFAWVIAIIIMLAGGLAILKLPVAQYPTIAPPAVTIS...</td>\n",
       "      <td>16.335227</td>\n",
       "    </tr>\n",
       "    <tr>\n",
       "      <th>4</th>\n",
       "      <td>ProtGPT2 (Unconditional)</td>\n",
       "      <td>MIRNQRQSPTFLLLDLEIWPVFAFVIGLLGVVFGFLALRNGLSVAD...</td>\n",
       "      <td>69.703244</td>\n",
       "    </tr>\n",
       "    <tr>\n",
       "      <th>...</th>\n",
       "      <td>...</td>\n",
       "      <td>...</td>\n",
       "      <td>...</td>\n",
       "    </tr>\n",
       "    <tr>\n",
       "      <th>95</th>\n",
       "      <td>ProtGPT2 (Unconditional)</td>\n",
       "      <td>VYGQEVARAREWLKQQSSLSYRTSASRAGSLGHGGLRGSSQAGDQR...</td>\n",
       "      <td>52.903683</td>\n",
       "    </tr>\n",
       "    <tr>\n",
       "      <th>96</th>\n",
       "      <td>ProtGPT2 (Unconditional)</td>\n",
       "      <td>MYYLRVAVFIVGVLACLFALYMLVDVIRVDAATYSHQRLGQIGGVY...</td>\n",
       "      <td>6.617647</td>\n",
       "    </tr>\n",
       "    <tr>\n",
       "      <th>97</th>\n",
       "      <td>ProtGPT2 (Unconditional)</td>\n",
       "      <td>SSIFSFFSVFSFLFFFFFKFFFFFFFLFLFLSNSLFFFFIFFFYSF...</td>\n",
       "      <td>100.000000</td>\n",
       "    </tr>\n",
       "    <tr>\n",
       "      <th>98</th>\n",
       "      <td>ProtGPT2 (Unconditional)</td>\n",
       "      <td>GRAPGRPQRRAARRRPGCRPPRRSARRRPPPRRRRGPPCRRWRRPR...</td>\n",
       "      <td>100.000000</td>\n",
       "    </tr>\n",
       "    <tr>\n",
       "      <th>99</th>\n",
       "      <td>ProtGPT2 (Unconditional)</td>\n",
       "      <td>AVRGLRLELRCCGSARWLPLLLMLLLTLLLLLLLLLLLVLLLMLLL...</td>\n",
       "      <td>100.000000</td>\n",
       "    </tr>\n",
       "  </tbody>\n",
       "</table>\n",
       "<p>100 rows × 3 columns</p>\n",
       "</div>"
      ],
      "text/plain": [
       "                      Source  \\\n",
       "0   ProtGPT2 (Unconditional)   \n",
       "1   ProtGPT2 (Unconditional)   \n",
       "2   ProtGPT2 (Unconditional)   \n",
       "3   ProtGPT2 (Unconditional)   \n",
       "4   ProtGPT2 (Unconditional)   \n",
       "..                       ...   \n",
       "95  ProtGPT2 (Unconditional)   \n",
       "96  ProtGPT2 (Unconditional)   \n",
       "97  ProtGPT2 (Unconditional)   \n",
       "98  ProtGPT2 (Unconditional)   \n",
       "99  ProtGPT2 (Unconditional)   \n",
       "\n",
       "                                             Sequence  DeepTMHMM Predictions  \n",
       "0   GRIPLRIVRAETELSAEEKAFLNAVEKGDYATVKQALQEAEIYYNV...              67.704918  \n",
       "1   SERRAVYIGALFPMSGGWPGGQACQPAVEMALEDVNSRRDILPDYE...              30.213904  \n",
       "2   LWRYRYRYFIYAAVSVLLALALGGGVYGFTHTAFYDDAASQDSQAA...              25.757576  \n",
       "3   MPNFFIDRPIFAWVIAIIIMLAGGLAILKLPVAQYPTIAPPAVTIS...              16.335227  \n",
       "4   MIRNQRQSPTFLLLDLEIWPVFAFVIGLLGVVFGFLALRNGLSVAD...              69.703244  \n",
       "..                                                ...                    ...  \n",
       "95  VYGQEVARAREWLKQQSSLSYRTSASRAGSLGHGGLRGSSQAGDQR...              52.903683  \n",
       "96  MYYLRVAVFIVGVLACLFALYMLVDVIRVDAATYSHQRLGQIGGVY...               6.617647  \n",
       "97  SSIFSFFSVFSFLFFFFFKFFFFFFFLFLFLSNSLFFFFIFFFYSF...             100.000000  \n",
       "98  GRAPGRPQRRAARRRPGCRPPRRSARRRPPPRRRRGPPCRRWRRPR...             100.000000  \n",
       "99  AVRGLRLELRCCGSARWLPLLLMLLLTLLLLLLLLLLLVLLLMLLL...             100.000000  \n",
       "\n",
       "[100 rows x 3 columns]"
      ]
     },
     "execution_count": 29,
     "metadata": {},
     "output_type": "execute_result"
    }
   ],
   "source": [
    "for idx, row in protgpt.iterrows():\n",
    "    protgpt.at[idx, 'DeepTMHMM Predictions'] = (row['counts'] / row['Sequence Length']) * 100\n",
    "protgpt.drop(columns=['Sequence Length', 'counts'], inplace=True)\n",
    "\n",
    "protgpt.drop(columns=['ProtGPT DeepTMHMM Predictions'], inplace=True)\n",
    "protgpt = protgpt.reset_index(drop=True)\n",
    "\n",
    "protgpt"
   ]
  },
  {
   "cell_type": "code",
   "execution_count": 30,
   "metadata": {},
   "outputs": [],
   "source": [
    "protgpt.to_csv('/home/sg666/MeMDLM/MeMDLM/benchmarks/results/de_novo/protgpt/protgpt_res.csv', index=False)"
   ]
  },
  {
   "cell_type": "code",
   "execution_count": 31,
   "metadata": {},
   "outputs": [
    {
     "name": "stdout",
     "output_type": "stream",
     "text": [
      "48.77166524681884\n",
      "33.905650362578754\n"
     ]
    }
   ],
   "source": [
    "print(protgpt['DeepTMHMM Predictions'].mean())\n",
    "print(protgpt['DeepTMHMM Predictions'].std())"
   ]
  },
  {
   "cell_type": "markdown",
   "metadata": {},
   "source": []
  },
  {
   "cell_type": "markdown",
   "metadata": {},
   "source": [
    "### Combine and plot results"
   ]
  },
  {
   "cell_type": "code",
   "execution_count": 32,
   "metadata": {},
   "outputs": [],
   "source": [
    "font_path = \"/home/sg666/MeMDLM/MeMDLM/src/utils/ubuntu_font/\"\n",
    "\n",
    "regular_font_path = os.path.join(font_path + 'Ubuntu-Regular.ttf')\n",
    "bold_font_path = os.path.join(font_path + 'Ubuntu-Bold.ttf')\n",
    "italic_font_path = os.path.join(font_path + 'Ubuntu-Italic.ttf')\n",
    "bold_italic_font_path = os.path.join(font_path + 'Ubuntu-BoldItalic.ttf')\n",
    "\n",
    "# Load the font properties\n",
    "regular_font = FontProperties(fname=regular_font_path)\n",
    "bold_font = FontProperties(fname=bold_font_path)\n",
    "italic_font = FontProperties(fname=italic_font_path)\n",
    "bold_italic_font = FontProperties(fname=bold_italic_font_path)\n",
    "\n",
    "# Add the fonts to the font manager\n",
    "fm.fontManager.addfont(regular_font_path)\n",
    "fm.fontManager.addfont(bold_font_path)\n",
    "fm.fontManager.addfont(italic_font_path)\n",
    "fm.fontManager.addfont(bold_italic_font_path)\n",
    "\n",
    "# Set the font family globally to Ubuntu\n",
    "plt.rcParams['font.family'] = regular_font.get_name()\n",
    "plt.rcParams['font.family'] = regular_font.get_name()\n",
    "plt.rcParams['mathtext.fontset'] = 'custom'\n",
    "plt.rcParams['mathtext.rm'] = regular_font.get_name()\n",
    "plt.rcParams['mathtext.it'] = italic_font.get_name()\n",
    "plt.rcParams['mathtext.bf'] = bold_font.get_name()"
   ]
  },
  {
   "cell_type": "code",
   "execution_count": 36,
   "metadata": {},
   "outputs": [
    {
     "name": "stderr",
     "output_type": "stream",
     "text": [
      "/tmp/ipykernel_421282/3144968704.py:7: FutureWarning: \n",
      "\n",
      "The `scale` parameter has been renamed and will be removed in v0.15.0. Pass `density_norm='width'` for the same effect.\n",
      "  sns.violinplot(\n"
     ]
    },
    {
     "data": {
      "image/png": "[encoded data removed]",
      "text/plain": [
       "<Figure size 900x400 with 1 Axes>"
      ]
     },
     "metadata": {},
     "output_type": "display_data"
    }
   ],
   "source": [
    "df_combined = pd.concat([test, protgpt, unconditional, conditional], ignore_index=True)\n",
    "\n",
    "df_combined = df_combined.rename(columns={\"Source\": \"Sequence Source\", \"DeepTMHMM Predictions\": \"Percent Soluble Residues\"})\n",
    "\n",
    "plt.figure(figsize=(9, 4))  \n",
    "\n",
    "sns.violinplot(\n",
    "    x=\"Sequence Source\",\n",
    "    y=\"Percent Soluble Residues\",\n",
    "    data=df_combined,\n",
    "    inner=None,  \n",
    "    linewidth=2,  \n",
    "    width=0.4,  \n",
    "    scale=\"width\", \n",
    "    color=\"#79D7F0\",\n",
    "    edgecolor=\"black\"\n",
    ")\n",
    "\n",
    "plt.xlabel(\"Sequence Source\", fontsize=12, fontproperties=bold_font)\n",
    "plt.ylabel(\"Percent Soluble Residues\", fontsize=12, fontproperties=bold_font)\n",
    "\n",
    "bold_font.set_size(15) \n",
    "plt.title(\"Soluble Residue Distribution within Membrane Protein Sequences\", fontsize=15, fontproperties=bold_font) \n",
    "\n",
    "plt.xticks(fontsize=12, fontproperties=regular_font)\n",
    "\n",
    "plt.ylim(0, 100)\n",
    "\n",
    "plt.savefig('/home/sg666/MeMDLM/MeMDLM/benchmarks/results/de_novo/soluble_distribution.png', dpi=300)  # Save at 300 DPI\n",
    "\n",
    "plt.show()"
   ]
  },
  {
   "cell_type": "code",
   "execution_count": null,
   "metadata": {},
   "outputs": [],
   "source": []
  }
 ],
 "metadata": {
  "kernelspec": {
   "display_name": "Python 3",
   "language": "python",
   "name": "python3"
  },
  "language_info": {
   "codemirror_mode": {
    "name": "ipython",
    "version": 3
   },
   "file_extension": ".py",
   "mimetype": "text/x-python",
   "name": "python",
   "nbconvert_exporter": "python",
   "pygments_lexer": "ipython3",
   "version": "3.10.12"
  }
 },
 "nbformat": 4,
 "nbformat_minor": 2
}
