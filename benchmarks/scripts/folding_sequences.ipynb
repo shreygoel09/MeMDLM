{
 "cells": [
  {
   "cell_type": "code",
   "execution_count": 55,
   "metadata": {},
   "outputs": [],
   "source": [
    "import numpy as np\n",
    "import pandas as pd"
   ]
  },
  {
   "cell_type": "code",
   "execution_count": 56,
   "metadata": {},
   "outputs": [],
   "source": [
    "path = \"/home/sg666/MeMDLM/MeMDLM/benchmarks/results/de_novo\""
   ]
  },
  {
   "cell_type": "code",
   "execution_count": 57,
   "metadata": {},
   "outputs": [],
   "source": [
    "og = pd.read_csv(path + \"/mdlm/og_res.csv\")\n",
    "optim = pd.read_csv(path + \"/mdlm/optim_res.csv\")\n",
    "\n",
    "protgpt = pd.read_csv(path + \"/protgpt/protgpt_res.csv\")\n",
    "\n",
    "test = pd.read_csv(path + \"/test/test_res.csv\")\n",
    "test['Sequence'] = test['Sequence'].str.upper()"
   ]
  },
  {
   "cell_type": "code",
   "execution_count": 58,
   "metadata": {},
   "outputs": [],
   "source": [
    "# Randomly select 10 sequences to fold\n",
    "\n",
    "def add_folded_column(df):\n",
    "    df[\"Folded\"] = \"No\"\n",
    "    yes_indices = np.random.choice(df.index, size=min(10, len(df)), replace=False)\n",
    "    df.loc[yes_indices, \"Folded\"] = \"Yes\"\n",
    "    return df"
   ]
  },
  {
   "cell_type": "code",
   "execution_count": 59,
   "metadata": {},
   "outputs": [],
   "source": [
    "#\n",
    "og = add_folded_column(og)\n",
    "optim = add_folded_column(optim)\n",
    "protgpt = add_folded_column(protgpt)\n",
    "test = add_folded_column(test)\n",
    "\n",
    "# Create subsets with only the 'Folded' column\n",
    "og_folded = og[og[\"Folded\"] == \"Yes\"]\n",
    "optim_folded = optim[optim[\"Folded\"] == \"Yes\"]\n",
    "protgpt_folded = protgpt[protgpt[\"Folded\"] == \"Yes\"]\n",
    "test_folded = test[test[\"Folded\"] == \"Yes\"]"
   ]
  },
  {
   "cell_type": "code",
   "execution_count": 60,
   "metadata": {},
   "outputs": [
    {
     "name": "stderr",
     "output_type": "stream",
     "text": [
      "/tmp/ipykernel_3915270/731538743.py:2: SettingWithCopyWarning: \n",
      "A value is trying to be set on a copy of a slice from a DataFrame.\n",
      "Try using .loc[row_indexer,col_indexer] = value instead\n",
      "\n",
      "See the caveats in the documentation: https://pandas.pydata.org/pandas-docs/stable/user_guide/indexing.html#returning-a-view-versus-a-copy\n",
      "  df['Sequence'] = df['Sequence'].apply(lambda seq: seq.replace('B', 'G')\n",
      "/tmp/ipykernel_3915270/731538743.py:7: SettingWithCopyWarning: \n",
      "A value is trying to be set on a copy of a slice from a DataFrame.\n",
      "Try using .loc[row_indexer,col_indexer] = value instead\n",
      "\n",
      "See the caveats in the documentation: https://pandas.pydata.org/pandas-docs/stable/user_guide/indexing.html#returning-a-view-versus-a-copy\n",
      "  df['plddt'] = None\n",
      "/tmp/ipykernel_3915270/731538743.py:2: SettingWithCopyWarning: \n",
      "A value is trying to be set on a copy of a slice from a DataFrame.\n",
      "Try using .loc[row_indexer,col_indexer] = value instead\n",
      "\n",
      "See the caveats in the documentation: https://pandas.pydata.org/pandas-docs/stable/user_guide/indexing.html#returning-a-view-versus-a-copy\n",
      "  df['Sequence'] = df['Sequence'].apply(lambda seq: seq.replace('B', 'G')\n",
      "/tmp/ipykernel_3915270/731538743.py:7: SettingWithCopyWarning: \n",
      "A value is trying to be set on a copy of a slice from a DataFrame.\n",
      "Try using .loc[row_indexer,col_indexer] = value instead\n",
      "\n",
      "See the caveats in the documentation: https://pandas.pydata.org/pandas-docs/stable/user_guide/indexing.html#returning-a-view-versus-a-copy\n",
      "  df['plddt'] = None\n",
      "/tmp/ipykernel_3915270/731538743.py:2: SettingWithCopyWarning: \n",
      "A value is trying to be set on a copy of a slice from a DataFrame.\n",
      "Try using .loc[row_indexer,col_indexer] = value instead\n",
      "\n",
      "See the caveats in the documentation: https://pandas.pydata.org/pandas-docs/stable/user_guide/indexing.html#returning-a-view-versus-a-copy\n",
      "  df['Sequence'] = df['Sequence'].apply(lambda seq: seq.replace('B', 'G')\n",
      "/tmp/ipykernel_3915270/731538743.py:7: SettingWithCopyWarning: \n",
      "A value is trying to be set on a copy of a slice from a DataFrame.\n",
      "Try using .loc[row_indexer,col_indexer] = value instead\n",
      "\n",
      "See the caveats in the documentation: https://pandas.pydata.org/pandas-docs/stable/user_guide/indexing.html#returning-a-view-versus-a-copy\n",
      "  df['plddt'] = None\n",
      "/tmp/ipykernel_3915270/731538743.py:2: SettingWithCopyWarning: \n",
      "A value is trying to be set on a copy of a slice from a DataFrame.\n",
      "Try using .loc[row_indexer,col_indexer] = value instead\n",
      "\n",
      "See the caveats in the documentation: https://pandas.pydata.org/pandas-docs/stable/user_guide/indexing.html#returning-a-view-versus-a-copy\n",
      "  df['Sequence'] = df['Sequence'].apply(lambda seq: seq.replace('B', 'G')\n",
      "/tmp/ipykernel_3915270/731538743.py:7: SettingWithCopyWarning: \n",
      "A value is trying to be set on a copy of a slice from a DataFrame.\n",
      "Try using .loc[row_indexer,col_indexer] = value instead\n",
      "\n",
      "See the caveats in the documentation: https://pandas.pydata.org/pandas-docs/stable/user_guide/indexing.html#returning-a-view-versus-a-copy\n",
      "  df['plddt'] = None\n"
     ]
    }
   ],
   "source": [
    "valids = {\"A\", \"R\", \"D\", \"C\", \"Q\", \"E\", \"G\", \"H\", \"I\", \"L\", \"K\", \"M\", \"N\", \"F\", \"P\", \"S\", \"T\", \"W\", \"Y\", \"V\"}\n",
    "\n",
    "for df in [og_folded, optim_folded, protgpt_folded, test_folded]:\n",
    "    df['Sequence'] = df['Sequence'].apply(lambda seq: ''.join(char if char in valids else 'G' for char in seq))\n",
    "    df.reset_index(drop=True, inplace=True)\n",
    "    df['plddt'] = None"
   ]
  },
  {
   "cell_type": "code",
   "execution_count": 61,
   "metadata": {},
   "outputs": [],
   "source": [
    "og_folded.to_csv(\"/home/sg666/MeMDLM/MeMDLM/benchmarks/results/folding/og.csv\", index=False)\n",
    "optim_folded.to_csv(\"/home/sg666/MeMDLM/MeMDLM/benchmarks/results/folding/optim.csv\", index=False)\n",
    "protgpt_folded.to_csv(\"/home/sg666/MeMDLM/MeMDLM/benchmarks/results/folding/protgpt.csv\", index=False)\n",
    "test_folded.to_csv(\"/home/sg666/MeMDLM/MeMDLM/benchmarks/results/folding/test.csv\", index=False)"
   ]
  },
  {
   "cell_type": "code",
   "execution_count": null,
   "metadata": {},
   "outputs": [],
   "source": []
  }
 ],
 "metadata": {
  "kernelspec": {
   "display_name": "Python 3",
   "language": "python",
   "name": "python3"
  },
  "language_info": {
   "codemirror_mode": {
    "name": "ipython",
    "version": 3
   },
   "file_extension": ".py",
   "mimetype": "text/x-python",
   "name": "python",
   "nbconvert_exporter": "python",
   "pygments_lexer": "ipython3",
   "version": "3.10.12"
  }
 },
 "nbformat": 4,
 "nbformat_minor": 2
}
