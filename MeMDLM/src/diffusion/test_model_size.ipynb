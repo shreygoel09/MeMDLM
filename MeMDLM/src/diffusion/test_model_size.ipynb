{
 "cells": [
  {
   "cell_type": "code",
   "execution_count": 8,
   "metadata": {},
   "outputs": [],
   "source": [
    "from torchinfo import summary\n",
    "from transformers import EsmForMaskedLM, EsmConfig, AutoTokenizer"
   ]
  },
  {
   "cell_type": "code",
   "execution_count": 12,
   "metadata": {},
   "outputs": [],
   "source": [
    "tokenizer = AutoTokenizer.from_pretrained(esm_model)"
   ]
  },
  {
   "cell_type": "code",
   "execution_count": 5,
   "metadata": {},
   "outputs": [],
   "source": [
    "esm_model = 'facebook/esm2_t30_150M_UR50D'"
   ]
  },
  {
   "cell_type": "code",
   "execution_count": 9,
   "metadata": {},
   "outputs": [],
   "source": [
    "base_esm = EsmForMaskedLM.from_pretrained(esm_model)"
   ]
  },
  {
   "cell_type": "code",
   "execution_count": 10,
   "metadata": {},
   "outputs": [
    {
     "data": {
      "text/plain": [
       "=====================================================================================\n",
       "Layer (type:depth-idx)                                       Param #\n",
       "=====================================================================================\n",
       "EsmForMaskedLM                                               --\n",
       "├─EsmModel: 1-1                                              --\n",
       "│    └─EsmEmbeddings: 2-1                                    --\n",
       "│    │    └─Embedding: 3-1                                   21,120\n",
       "│    │    └─Dropout: 3-2                                     --\n",
       "│    │    └─Embedding: 3-3                                   656,640\n",
       "│    └─EsmEncoder: 2-2                                       --\n",
       "│    │    └─ModuleList: 3-4                                  147,705,600\n",
       "│    │    └─LayerNorm: 3-5                                   1,280\n",
       "│    └─EsmContactPredictionHead: 2-3                         --\n",
       "│    │    └─Linear: 3-6                                      601\n",
       "│    │    └─Sigmoid: 3-7                                     --\n",
       "├─EsmLMHead: 1-2                                             33\n",
       "│    └─Linear: 2-4                                           410,240\n",
       "│    └─LayerNorm: 2-5                                        1,280\n",
       "│    └─Linear: 2-6                                           21,120\n",
       "=====================================================================================\n",
       "Total params: 148,817,914\n",
       "Trainable params: 148,817,914\n",
       "Non-trainable params: 0\n",
       "====================================================================================="
      ]
     },
     "execution_count": 10,
     "metadata": {},
     "output_type": "execute_result"
    }
   ],
   "source": [
    "summary(base_esm)"
   ]
  },
  {
   "cell_type": "code",
   "execution_count": 16,
   "metadata": {},
   "outputs": [],
   "source": [
    "default_config = EsmConfig.from_pretrained(esm_model)"
   ]
  },
  {
   "cell_type": "code",
   "execution_count": 21,
   "metadata": {},
   "outputs": [],
   "source": [
    "esm_config = EsmConfig(\n",
    "    vocab_size=default_config.vocab_size,\n",
    "    hidden_size=896, #default_config.hidden_size,\n",
    "    num_hidden_layers=default_config.num_hidden_layers,\n",
    "    num_attention_heads=14, #default_config.num_attention_heads,\n",
    "    intermediate_size=3584, #default_config.intermediate_size,\n",
    "    max_position_embeddings=2048,\n",
    "    hidden_dropout_prob=default_config.hidden_dropout_prob,\n",
    "    attention_probs_dropout_prob=default_config.attention_probs_dropout_prob,\n",
    "    position_embedding_type=default_config.position_embedding_type,\n",
    "    pad_token_id=tokenizer.pad_token_id\n",
    ")"
   ]
  },
  {
   "cell_type": "code",
   "execution_count": null,
   "metadata": {},
   "outputs": [
    {
     "data": {
      "text/plain": [
       "=====================================================================================\n",
       "Layer (type:depth-idx)                                       Param #\n",
       "=====================================================================================\n",
       "EsmForMaskedLM                                               --\n",
       "├─EsmModel: 1-1                                              --\n",
       "│    └─EsmEmbeddings: 2-1                                    --\n",
       "│    │    └─Embedding: 3-1                                   21,120\n",
       "│    │    └─Dropout: 3-2                                     --\n",
       "│    │    └─Embedding: 3-3                                   1,310,720\n",
       "│    └─EsmEncoder: 2-2                                       --\n",
       "│    │    └─ModuleList: 3-4                                  152,629,120\n",
       "│    │    └─LayerNorm: 3-5                                   1,280\n",
       "│    └─EsmContactPredictionHead: 2-3                         --\n",
       "│    │    └─Linear: 3-6                                      621\n",
       "│    │    └─Sigmoid: 3-7                                     --\n",
       "├─EsmLMHead: 1-2                                             33\n",
       "│    └─Linear: 2-4                                           410,240\n",
       "│    └─LayerNorm: 2-5                                        1,280\n",
       "│    └─Linear: 2-6                                           21,120\n",
       "=====================================================================================\n",
       "Total params: 154,395,534\n",
       "Trainable params: 154,395,534\n",
       "Non-trainable params: 0\n",
       "====================================================================================="
      ]
     },
     "execution_count": 19,
     "metadata": {},
     "output_type": "execute_result"
    }
   ],
   "source": [
    "more_layers = EsmForMaskedLM._from_config(esm_config)\n",
    "summary(more_layers)"
   ]
  },
  {
   "cell_type": "code",
   "execution_count": 22,
   "metadata": {},
   "outputs": [
    {
     "data": {
      "text/plain": [
       "=====================================================================================\n",
       "Layer (type:depth-idx)                                       Param #\n",
       "=====================================================================================\n",
       "EsmForMaskedLM                                               --\n",
       "├─EsmModel: 1-1                                              --\n",
       "│    └─EsmEmbeddings: 2-1                                    --\n",
       "│    │    └─Embedding: 3-1                                   29,568\n",
       "│    │    └─Dropout: 3-2                                     --\n",
       "│    │    └─Embedding: 3-3                                   1,835,008\n",
       "│    └─EsmEncoder: 2-2                                       --\n",
       "│    │    └─ModuleList: 3-4                                  289,363,200\n",
       "│    │    └─LayerNorm: 3-5                                   1,792\n",
       "│    └─EsmContactPredictionHead: 2-3                         --\n",
       "│    │    └─Linear: 3-6                                      421\n",
       "│    │    └─Sigmoid: 3-7                                     --\n",
       "├─EsmLMHead: 1-2                                             33\n",
       "│    └─Linear: 2-4                                           803,712\n",
       "│    └─LayerNorm: 2-5                                        1,792\n",
       "│    └─Linear: 2-6                                           29,568\n",
       "=====================================================================================\n",
       "Total params: 292,065,094\n",
       "Trainable params: 292,065,094\n",
       "Non-trainable params: 0\n",
       "====================================================================================="
      ]
     },
     "execution_count": 22,
     "metadata": {},
     "output_type": "execute_result"
    }
   ],
   "source": [
    "updated = EsmForMaskedLM._from_config(esm_config)\n",
    "summary(updated)"
   ]
  },
  {
   "cell_type": "code",
   "execution_count": null,
   "metadata": {},
   "outputs": [],
   "source": []
  }
 ],
 "metadata": {
  "kernelspec": {
   "display_name": "shrey_coursework",
   "language": "python",
   "name": "python3"
  },
  "language_info": {
   "codemirror_mode": {
    "name": "ipython",
    "version": 3
   },
   "file_extension": ".py",
   "mimetype": "text/x-python",
   "name": "python",
   "nbconvert_exporter": "python",
   "pygments_lexer": "ipython3",
   "version": "3.10.12"
  }
 },
 "nbformat": 4,
 "nbformat_minor": 2
}
